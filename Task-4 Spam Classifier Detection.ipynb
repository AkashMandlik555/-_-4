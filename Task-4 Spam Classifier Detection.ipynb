{
 "cells": [
  {
   "cell_type": "markdown",
   "id": "cf04ce3f",
   "metadata": {},
   "source": [
    "# ------------------------------------------ OASIS INFOBYTE ------------------------------------------\n",
    "# Name - Akash Prakash Mandlik\n",
    "# Task4 - Email Spam Classifier Detection"
   ]
  },
  {
   "cell_type": "markdown",
   "id": "feee6a80",
   "metadata": {},
   "source": [
    "# Step-1) Business Problem Understanding"
   ]
  },
  {
   "cell_type": "markdown",
   "id": "e1af12b6",
   "metadata": {},
   "source": [
    "- We’ve all been the recipient of spam emails before. Spam mail, or junk mail, is a type of email\n",
    "that is sent to a massive number of users at one time, frequently containing cryptic\n",
    "messages, scams, or most dangerously, phishing content.\n",
    "\n",
    "- In this Project, use Python to build an email spam detector. Then, use machine learning to\n",
    "train the spam detector to recognize and classify emails into spam and non-spam. Let’s get\n",
    "started!\n",
    "\n"
   ]
  },
  {
   "cell_type": "code",
   "execution_count": 1,
   "id": "bfd06c03",
   "metadata": {},
   "outputs": [],
   "source": [
    "import pandas as pd\n",
    "\n",
    "import warnings \n",
    "warnings.simplefilter(\"ignore\")"
   ]
  },
  {
   "cell_type": "markdown",
   "id": "747ff011",
   "metadata": {},
   "source": [
    "# Step-2) Data Understanding"
   ]
  },
  {
   "cell_type": "code",
   "execution_count": 2,
   "id": "cb0128c6",
   "metadata": {},
   "outputs": [
    {
     "data": {
      "text/html": [
       "<div>\n",
       "<style scoped>\n",
       "    .dataframe tbody tr th:only-of-type {\n",
       "        vertical-align: middle;\n",
       "    }\n",
       "\n",
       "    .dataframe tbody tr th {\n",
       "        vertical-align: top;\n",
       "    }\n",
       "\n",
       "    .dataframe thead th {\n",
       "        text-align: right;\n",
       "    }\n",
       "</style>\n",
       "<table border=\"1\" class=\"dataframe\">\n",
       "  <thead>\n",
       "    <tr style=\"text-align: right;\">\n",
       "      <th></th>\n",
       "      <th>label</th>\n",
       "      <th>message</th>\n",
       "    </tr>\n",
       "  </thead>\n",
       "  <tbody>\n",
       "    <tr>\n",
       "      <th>0</th>\n",
       "      <td>ham</td>\n",
       "      <td>Go until jurong point, crazy.. Available only ...</td>\n",
       "    </tr>\n",
       "    <tr>\n",
       "      <th>1</th>\n",
       "      <td>ham</td>\n",
       "      <td>Ok lar... Joking wif u oni...</td>\n",
       "    </tr>\n",
       "    <tr>\n",
       "      <th>2</th>\n",
       "      <td>spam</td>\n",
       "      <td>Free entry in 2 a wkly comp to win FA Cup fina...</td>\n",
       "    </tr>\n",
       "    <tr>\n",
       "      <th>3</th>\n",
       "      <td>ham</td>\n",
       "      <td>U dun say so early hor... U c already then say...</td>\n",
       "    </tr>\n",
       "    <tr>\n",
       "      <th>4</th>\n",
       "      <td>ham</td>\n",
       "      <td>Nah I don't think he goes to usf, he lives aro...</td>\n",
       "    </tr>\n",
       "  </tbody>\n",
       "</table>\n",
       "</div>"
      ],
      "text/plain": [
       "  label                                            message\n",
       "0   ham  Go until jurong point, crazy.. Available only ...\n",
       "1   ham                      Ok lar... Joking wif u oni...\n",
       "2  spam  Free entry in 2 a wkly comp to win FA Cup fina...\n",
       "3   ham  U dun say so early hor... U c already then say...\n",
       "4   ham  Nah I don't think he goes to usf, he lives aro..."
      ]
     },
     "execution_count": 2,
     "metadata": {},
     "output_type": "execute_result"
    }
   ],
   "source": [
    "df = pd.read_csv(\"SMSSpamCollection\", sep = \"\\t\", names = [\"label\",\"message\"])\n",
    "df.head()"
   ]
  },
  {
   "cell_type": "markdown",
   "id": "bc9ceee7",
   "metadata": {},
   "source": [
    "# Step-3) Text Pre-processing"
   ]
  },
  {
   "cell_type": "markdown",
   "id": "b6989aba",
   "metadata": {},
   "source": [
    "## 3.1) Text cleaning"
   ]
  },
  {
   "cell_type": "markdown",
   "id": "3723931b",
   "metadata": {},
   "source": [
    "#### 3.1.1) Remove Punctuations\n",
    "#### 3.1.2) Remove Stopwords\n",
    "#### 3.1.3) Stemming / Lemmatization"
   ]
  },
  {
   "cell_type": "code",
   "execution_count": 3,
   "id": "0f23a1e0",
   "metadata": {},
   "outputs": [],
   "source": [
    "import nltk\n",
    "import re\n",
    "from nltk.corpus import stopwords\n",
    "from nltk.stem import PorterStemmer\n",
    "ps = PorterStemmer"
   ]
  },
  {
   "cell_type": "code",
   "execution_count": 4,
   "id": "9c3a27f0",
   "metadata": {},
   "outputs": [],
   "source": [
    "corpus = []\n",
    "\n",
    "for i in range(len(df)):\n",
    "    rp = re.sub('[^a-zA-Z]',\" \", df[\"message\"][i])\n",
    "    rp = rp.lower()\n",
    "    rp = rp.split()\n",
    "    rp = [word for word in rp if not word in set(stopwords.words(\"english\"))]\n",
    "    rp = \" \".join(rp)\n",
    "    corpus.append(rp)\n",
    "    \n",
    "#print(corpus)"
   ]
  },
  {
   "cell_type": "markdown",
   "id": "a7796975",
   "metadata": {},
   "source": [
    "## 3.2) Vectorization"
   ]
  },
  {
   "cell_type": "markdown",
   "id": "d7022ba8",
   "metadata": {},
   "source": [
    "#### 3.2.1) Count Vectorizer(bag of words)"
   ]
  },
  {
   "cell_type": "code",
   "execution_count": 5,
   "id": "da81394f",
   "metadata": {},
   "outputs": [
    {
     "data": {
      "text/plain": [
       "array([[0, 0, 0, ..., 0, 0, 0],\n",
       "       [0, 0, 0, ..., 0, 0, 0],\n",
       "       [0, 0, 0, ..., 0, 0, 0],\n",
       "       ...,\n",
       "       [0, 0, 0, ..., 0, 0, 0],\n",
       "       [0, 0, 0, ..., 0, 0, 0],\n",
       "       [0, 0, 0, ..., 0, 0, 0]], dtype=int64)"
      ]
     },
     "execution_count": 5,
     "metadata": {},
     "output_type": "execute_result"
    }
   ],
   "source": [
    "from sklearn.feature_extraction.text import CountVectorizer\n",
    "cv = CountVectorizer()\n",
    "x = cv.fit_transform(corpus).toarray()\n",
    "x"
   ]
  },
  {
   "cell_type": "markdown",
   "id": "d4705cf2",
   "metadata": {},
   "source": [
    "#### X & values"
   ]
  },
  {
   "cell_type": "code",
   "execution_count": 6,
   "id": "785c78c1",
   "metadata": {},
   "outputs": [
    {
     "data": {
      "text/plain": [
       "array([[0, 0, 0, ..., 0, 0, 0],\n",
       "       [0, 0, 0, ..., 0, 0, 0],\n",
       "       [0, 0, 0, ..., 0, 0, 0],\n",
       "       ...,\n",
       "       [0, 0, 0, ..., 0, 0, 0],\n",
       "       [0, 0, 0, ..., 0, 0, 0],\n",
       "       [0, 0, 0, ..., 0, 0, 0]], dtype=int64)"
      ]
     },
     "execution_count": 6,
     "metadata": {},
     "output_type": "execute_result"
    }
   ],
   "source": [
    "x"
   ]
  },
  {
   "cell_type": "code",
   "execution_count": 7,
   "id": "ad9a31e0",
   "metadata": {},
   "outputs": [],
   "source": [
    "y = pd.get_dummies(df[\"label\"], drop_first = True)"
   ]
  },
  {
   "cell_type": "code",
   "execution_count": 8,
   "id": "97d70397",
   "metadata": {},
   "outputs": [
    {
     "data": {
      "text/html": [
       "<div>\n",
       "<style scoped>\n",
       "    .dataframe tbody tr th:only-of-type {\n",
       "        vertical-align: middle;\n",
       "    }\n",
       "\n",
       "    .dataframe tbody tr th {\n",
       "        vertical-align: top;\n",
       "    }\n",
       "\n",
       "    .dataframe thead th {\n",
       "        text-align: right;\n",
       "    }\n",
       "</style>\n",
       "<table border=\"1\" class=\"dataframe\">\n",
       "  <thead>\n",
       "    <tr style=\"text-align: right;\">\n",
       "      <th></th>\n",
       "      <th>spam</th>\n",
       "    </tr>\n",
       "  </thead>\n",
       "  <tbody>\n",
       "    <tr>\n",
       "      <th>0</th>\n",
       "      <td>0</td>\n",
       "    </tr>\n",
       "    <tr>\n",
       "      <th>1</th>\n",
       "      <td>0</td>\n",
       "    </tr>\n",
       "    <tr>\n",
       "      <th>2</th>\n",
       "      <td>1</td>\n",
       "    </tr>\n",
       "    <tr>\n",
       "      <th>3</th>\n",
       "      <td>0</td>\n",
       "    </tr>\n",
       "    <tr>\n",
       "      <th>4</th>\n",
       "      <td>0</td>\n",
       "    </tr>\n",
       "    <tr>\n",
       "      <th>...</th>\n",
       "      <td>...</td>\n",
       "    </tr>\n",
       "    <tr>\n",
       "      <th>5567</th>\n",
       "      <td>1</td>\n",
       "    </tr>\n",
       "    <tr>\n",
       "      <th>5568</th>\n",
       "      <td>0</td>\n",
       "    </tr>\n",
       "    <tr>\n",
       "      <th>5569</th>\n",
       "      <td>0</td>\n",
       "    </tr>\n",
       "    <tr>\n",
       "      <th>5570</th>\n",
       "      <td>0</td>\n",
       "    </tr>\n",
       "    <tr>\n",
       "      <th>5571</th>\n",
       "      <td>0</td>\n",
       "    </tr>\n",
       "  </tbody>\n",
       "</table>\n",
       "<p>5572 rows × 1 columns</p>\n",
       "</div>"
      ],
      "text/plain": [
       "      spam\n",
       "0        0\n",
       "1        0\n",
       "2        1\n",
       "3        0\n",
       "4        0\n",
       "...    ...\n",
       "5567     1\n",
       "5568     0\n",
       "5569     0\n",
       "5570     0\n",
       "5571     0\n",
       "\n",
       "[5572 rows x 1 columns]"
      ]
     },
     "execution_count": 8,
     "metadata": {},
     "output_type": "execute_result"
    }
   ],
   "source": [
    "y"
   ]
  },
  {
   "cell_type": "markdown",
   "id": "eb2c5f91",
   "metadata": {},
   "source": [
    "## 3.3) Train-Test Split"
   ]
  },
  {
   "cell_type": "code",
   "execution_count": 9,
   "id": "2054373e",
   "metadata": {},
   "outputs": [],
   "source": [
    "from sklearn.model_selection import train_test_split\n",
    "x_train,x_test,y_train,y_test = train_test_split(x, y, test_size=0.3, random_state = 0)"
   ]
  },
  {
   "cell_type": "markdown",
   "id": "9df9b802",
   "metadata": {},
   "source": [
    "# Step-4) Modeling"
   ]
  },
  {
   "cell_type": "markdown",
   "id": "b9e5e73e",
   "metadata": {},
   "source": [
    "### Naive bayes Classifier with default parameteres"
   ]
  },
  {
   "cell_type": "code",
   "execution_count": 10,
   "id": "8263186f",
   "metadata": {},
   "outputs": [
    {
     "data": {
      "text/plain": [
       "MultinomialNB()"
      ]
     },
     "execution_count": 10,
     "metadata": {},
     "output_type": "execute_result"
    }
   ],
   "source": [
    "from sklearn.naive_bayes import MultinomialNB\n",
    "model = MultinomialNB()\n",
    "model.fit(x_train, y_train)"
   ]
  },
  {
   "cell_type": "markdown",
   "id": "e21c33cd",
   "metadata": {},
   "source": [
    "# Step-5) Predictions"
   ]
  },
  {
   "cell_type": "code",
   "execution_count": 11,
   "id": "df533b73",
   "metadata": {},
   "outputs": [],
   "source": [
    "ypred_test  = model.predict(x_test)\n",
    "ypred_train = model.predict(x_train)"
   ]
  },
  {
   "cell_type": "markdown",
   "id": "21896105",
   "metadata": {},
   "source": [
    "# Step-6) Evaluation"
   ]
  },
  {
   "cell_type": "code",
   "execution_count": 12,
   "id": "65161502",
   "metadata": {},
   "outputs": [
    {
     "name": "stdout",
     "output_type": "stream",
     "text": [
      "Train Accuracy : 0.9930769230769231\n",
      "Test Accuracy : 0.979066985645933\n"
     ]
    }
   ],
   "source": [
    "from sklearn.metrics import accuracy_score\n",
    "print(\"Train Accuracy :\", accuracy_score(y_train, ypred_train))\n",
    "print(\"Test Accuracy :\", accuracy_score(y_test, ypred_test))"
   ]
  },
  {
   "cell_type": "code",
   "execution_count": null,
   "id": "114bc449",
   "metadata": {},
   "outputs": [],
   "source": []
  }
 ],
 "metadata": {
  "kernelspec": {
   "display_name": "Python 3 (ipykernel)",
   "language": "python",
   "name": "python3"
  },
  "language_info": {
   "codemirror_mode": {
    "name": "ipython",
    "version": 3
   },
   "file_extension": ".py",
   "mimetype": "text/x-python",
   "name": "python",
   "nbconvert_exporter": "python",
   "pygments_lexer": "ipython3",
   "version": "3.9.13"
  }
 },
 "nbformat": 4,
 "nbformat_minor": 5
}
